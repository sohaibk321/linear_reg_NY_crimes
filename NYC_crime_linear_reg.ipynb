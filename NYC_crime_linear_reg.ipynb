{
 "cells": [
  {
   "cell_type": "code",
   "execution_count": 2,
   "metadata": {
    "collapsed": true
   },
   "outputs": [],
   "source": [
    "import pandas as pd\n",
    "from matplotlib import pyplot as plt\n",
    "import seaborn as sns\n",
    "import numpy as np\n",
    "from sklearn import linear_model\n",
    "import statsmodels.formula.api as smf\n",
    "%matplotlib inline\n",
    "pd.options.display.float_format = '{:.3f}'.format\n",
    "df = pd.read_csv('table_8_offenses_known_to_law_enforcement_new_york_by_city_2013.csv')"
   ]
  },
  {
   "cell_type": "code",
   "execution_count": 3,
   "metadata": {},
   "outputs": [
    {
     "data": {
      "text/plain": [
       "Index(['City', 'Population', 'Violent crime',\n",
       "       'Murder and nonnegligent manslaughter', 'Rape (revised definition)1',\n",
       "       'Rape (legacy definition)2', 'Robbery', 'Aggravated assault',\n",
       "       'Property crime', 'Burglary', 'Larceny- theft', 'Motor vehicle theft',\n",
       "       'Arson3'],\n",
       "      dtype='object')"
      ]
     },
     "execution_count": 3,
     "metadata": {},
     "output_type": "execute_result"
    }
   ],
   "source": [
    "df.columns = df.columns.str.replace('\\n', ' ')\n",
    "df.drop(['Unnamed: 13'], axis=1, inplace=True)\n",
    "df.columns"
   ]
  },
  {
   "cell_type": "code",
   "execution_count": 4,
   "metadata": {
    "collapsed": true
   },
   "outputs": [],
   "source": [
    "fix = ['Population', 'Violent crime', 'Rape (legacy definition)2', 'Robbery', 'Aggravated assault', \n",
    "       'Property crime', 'Burglary', 'Larceny- theft', 'Motor vehicle theft']\n",
    "#fixing commas in the numeric columns\n",
    "for key in fix:\n",
    "    df[key] = pd.to_numeric(df[key].astype(str).str.replace(',',''), errors='ignore')\n"
   ]
  },
  {
   "cell_type": "code",
   "execution_count": 5,
   "metadata": {},
   "outputs": [
    {
     "data": {
      "image/png": "[encoded data removed]",
      "text/plain": [
       "<matplotlib.figure.Figure at 0x12e5e3f9470>"
      ]
     },
     "metadata": {},
     "output_type": "display_data"
    },
    {
     "data": {
      "image/png": "[encoded data removed]",
      "text/plain": [
       "<matplotlib.figure.Figure at 0x12e5e3ffd30>"
      ]
     },
     "metadata": {},
     "output_type": "display_data"
    },
    {
     "data": {
      "image/png": "[encoded data removed]",
      "text/plain": [
       "<matplotlib.figure.Figure at 0x12e5e81aeb8>"
      ]
     },
     "metadata": {},
     "output_type": "display_data"
    },
    {
     "data": {
      "image/png": "[encoded data removed]",
      "text/plain": [
       "<matplotlib.figure.Figure at 0x12e5e43b390>"
      ]
     },
     "metadata": {},
     "output_type": "display_data"
    }
   ],
   "source": [
    "for key in fix:\n",
    "    df[key] = pd.to_numeric(df[key].astype(str).str.replace(',',''), errors='coerce')\n",
    "df.dropna(axis=1, how='all', inplace=True)\n",
    "df.dropna(axis=0, how='all', inplace=True)\n",
    "#Use to make sure all the values are now numerical\n",
    "#df.dtypes\n",
    "plt.title(\"Property Crime\")\n",
    "plt.hist(df['Property crime'])\n",
    "plt.show()\n",
    "keys = ['Burglary', 'Larceny- theft', 'Motor vehicle theft']\n",
    "for key in keys:\n",
    "    plt.title(key)\n",
    "    plt.hist(df[key])  \n",
    "    plt.show()"
   ]
  },
  {
   "cell_type": "code",
   "execution_count": 8,
   "metadata": {
    "collapsed": true
   },
   "outputs": [],
   "source": [
    "#Nans in the data source mean that arson data wasn't complete and not included\n",
    "#Property crime = Burglary + Larceny + Motor Theft + Arson\n",
    "df['Arson3'] = df['Arson3'].replace(np.nan, 0)\n"
   ]
  },
  {
   "cell_type": "code",
   "execution_count": 7,
   "metadata": {},
   "outputs": [
    {
     "data": {
      "text/html": [
       "<div>\n",
       "<style scoped>\n",
       "    .dataframe tbody tr th:only-of-type {\n",
       "        vertical-align: middle;\n",
       "    }\n",
       "\n",
       "    .dataframe tbody tr th {\n",
       "        vertical-align: top;\n",
       "    }\n",
       "\n",
       "    .dataframe thead th {\n",
       "        text-align: right;\n",
       "    }\n",
       "</style>\n",
       "<table border=\"1\" class=\"dataframe\">\n",
       "  <thead>\n",
       "    <tr style=\"text-align: right;\">\n",
       "      <th></th>\n",
       "      <th>City</th>\n",
       "      <th>Population</th>\n",
       "      <th>Violent crime</th>\n",
       "      <th>Murder and nonnegligent manslaughter</th>\n",
       "      <th>Rape (legacy definition)2</th>\n",
       "      <th>Robbery</th>\n",
       "      <th>Aggravated assault</th>\n",
       "      <th>Property crime</th>\n",
       "      <th>Burglary</th>\n",
       "      <th>Larceny- theft</th>\n",
       "      <th>Motor vehicle theft</th>\n",
       "      <th>Arson3</th>\n",
       "    </tr>\n",
       "  </thead>\n",
       "  <tbody>\n",
       "    <tr>\n",
       "      <th>3</th>\n",
       "      <td>Albany</td>\n",
       "      <td>97956.000</td>\n",
       "      <td>791.000</td>\n",
       "      <td>8.000</td>\n",
       "      <td>30.000</td>\n",
       "      <td>227.000</td>\n",
       "      <td>526.000</td>\n",
       "      <td>4090.000</td>\n",
       "      <td>705.000</td>\n",
       "      <td>3243.000</td>\n",
       "      <td>142.000</td>\n",
       "      <td>0.000</td>\n",
       "    </tr>\n",
       "    <tr>\n",
       "      <th>35</th>\n",
       "      <td>Buffalo</td>\n",
       "      <td>258789.000</td>\n",
       "      <td>3249.000</td>\n",
       "      <td>47.000</td>\n",
       "      <td>145.000</td>\n",
       "      <td>1322.000</td>\n",
       "      <td>1735.000</td>\n",
       "      <td>12491.000</td>\n",
       "      <td>3458.000</td>\n",
       "      <td>8076.000</td>\n",
       "      <td>957.000</td>\n",
       "      <td>0.000</td>\n",
       "    </tr>\n",
       "    <tr>\n",
       "      <th>216</th>\n",
       "      <td>New York</td>\n",
       "      <td>8396126.000</td>\n",
       "      <td>52384.000</td>\n",
       "      <td>335.000</td>\n",
       "      <td>1112.000</td>\n",
       "      <td>19170.000</td>\n",
       "      <td>31767.000</td>\n",
       "      <td>141971.000</td>\n",
       "      <td>16606.000</td>\n",
       "      <td>117931.000</td>\n",
       "      <td>7434.000</td>\n",
       "      <td>0.000</td>\n",
       "    </tr>\n",
       "    <tr>\n",
       "      <th>272</th>\n",
       "      <td>Rochester</td>\n",
       "      <td>210562.000</td>\n",
       "      <td>2107.000</td>\n",
       "      <td>42.000</td>\n",
       "      <td>92.000</td>\n",
       "      <td>918.000</td>\n",
       "      <td>1055.000</td>\n",
       "      <td>10051.000</td>\n",
       "      <td>2587.000</td>\n",
       "      <td>6855.000</td>\n",
       "      <td>609.000</td>\n",
       "      <td>132.000</td>\n",
       "    </tr>\n",
       "    <tr>\n",
       "      <th>310</th>\n",
       "      <td>Syracuse</td>\n",
       "      <td>143834.000</td>\n",
       "      <td>1192.000</td>\n",
       "      <td>21.000</td>\n",
       "      <td>75.000</td>\n",
       "      <td>400.000</td>\n",
       "      <td>696.000</td>\n",
       "      <td>6473.000</td>\n",
       "      <td>1781.000</td>\n",
       "      <td>4298.000</td>\n",
       "      <td>394.000</td>\n",
       "      <td>57.000</td>\n",
       "    </tr>\n",
       "  </tbody>\n",
       "</table>\n",
       "</div>"
      ],
      "text/plain": [
       "          City  Population  Violent crime  \\\n",
       "3       Albany   97956.000        791.000   \n",
       "35     Buffalo  258789.000       3249.000   \n",
       "216   New York 8396126.000      52384.000   \n",
       "272  Rochester  210562.000       2107.000   \n",
       "310   Syracuse  143834.000       1192.000   \n",
       "\n",
       "     Murder and nonnegligent manslaughter  Rape (legacy definition)2  \\\n",
       "3                                   8.000                     30.000   \n",
       "35                                 47.000                    145.000   \n",
       "216                               335.000                   1112.000   \n",
       "272                                42.000                     92.000   \n",
       "310                                21.000                     75.000   \n",
       "\n",
       "      Robbery  Aggravated assault  Property crime  Burglary  Larceny- theft  \\\n",
       "3     227.000             526.000        4090.000   705.000        3243.000   \n",
       "35   1322.000            1735.000       12491.000  3458.000        8076.000   \n",
       "216 19170.000           31767.000      141971.000 16606.000      117931.000   \n",
       "272   918.000            1055.000       10051.000  2587.000        6855.000   \n",
       "310   400.000             696.000        6473.000  1781.000        4298.000   \n",
       "\n",
       "     Motor vehicle theft  Arson3  \n",
       "3                142.000   0.000  \n",
       "35               957.000   0.000  \n",
       "216             7434.000   0.000  \n",
       "272              609.000 132.000  \n",
       "310              394.000  57.000  "
      ]
     },
     "metadata": {},
     "output_type": "display_data"
    }
   ],
   "source": [
    "#detecting outliers\n",
    "display(df.loc[df['Property crime']>4000, :])\n",
    "df.drop(df[df['Property crime']>4000].index, inplace=True)"
   ]
  },
  {
   "cell_type": "code",
   "execution_count": 7,
   "metadata": {
    "collapsed": true
   },
   "outputs": [],
   "source": [
    "#PCA for burg, larceny, motor theft, and arson\n",
    "#attempting to combine the property crime components, but not included so far in the analysis\n",
    "from sklearn.preprocessing import StandardScaler\n",
    "from sklearn.decomposition import PCA \n",
    "df_pca = df[['Burglary', 'Larceny- theft', 'Motor vehicle theft', 'Arson3']].dropna()\n",
    "standard = StandardScaler().fit_transform(df_pca)\n",
    "Xt = standard.T\n",
    "Cx = np.cov(Xt)\n",
    "eig_val_cov, eig_vec_cov = np.linalg.eig(Cx)"
   ]
  },
  {
   "cell_type": "code",
   "execution_count": 8,
   "metadata": {},
   "outputs": [
    {
     "name": "stdout",
     "output_type": "stream",
     "text": [
      "Eigenvector 1: \n",
      "[[0.54722266]\n",
      " [0.51863811]\n",
      " [0.52156169]\n",
      " [0.39941867]]\n",
      "Eigenvalue 1: 2.898094139148601\n",
      "----------------------------------------\n",
      "Eigenvector 2: \n",
      "[[ 0.27866302]\n",
      " [ 0.36819364]\n",
      " [ 0.02059475]\n",
      " [-0.88676729]]\n",
      "Eigenvalue 2: 0.6657934682682961\n",
      "----------------------------------------\n",
      "Eigenvector 3: \n",
      "[[-0.78529533]\n",
      " [ 0.54668949]\n",
      " [ 0.29029592]\n",
      " [-0.01304355]]\n",
      "Eigenvalue 3: 0.13208551185555426\n",
      "----------------------------------------\n",
      "Eigenvector 4: \n",
      "[[ 0.07877523]\n",
      " [ 0.54459026]\n",
      " [-0.80204584]\n",
      " [ 0.23224637]]\n",
      "Eigenvalue 4: 0.3158612002541723\n",
      "----------------------------------------\n"
     ]
    }
   ],
   "source": [
    "for i in range(len(eig_val_cov)):\n",
    "    eigvec_cov = eig_vec_cov[:, i].reshape(1, 4).T\n",
    "    print('Eigenvector {}: \\n{}'.format(i + 1, eigvec_cov))\n",
    "    print('Eigenvalue {}: {}'.format(i + 1, eig_val_cov[i]))\n",
    "    print(40 * '-')\n",
    "#only keep first one"
   ]
  },
  {
   "cell_type": "code",
   "execution_count": 9,
   "metadata": {
    "collapsed": true
   },
   "outputs": [],
   "source": [
    "P = eig_vec_cov[:, 0]\n",
    "result = P.T.dot(Xt)"
   ]
  },
  {
   "cell_type": "code",
   "execution_count": 10,
   "metadata": {},
   "outputs": [
    {
     "data": {
      "image/png": "[encoded data removed]",
      "text/plain": [
       "<matplotlib.figure.Figure at 0x17166e84fd0>"
      ]
     },
     "metadata": {},
     "output_type": "display_data"
    }
   ],
   "source": [
    "data_to_plot = df_pca[['Burglary', 'Larceny- theft', 'Motor vehicle theft', 'Arson3']]\n",
    "data_to_plot['Component'] = result\n",
    "data_to_plot = pd.melt(data_to_plot, id_vars='Component')\n",
    "\n",
    "g = sns.FacetGrid(data_to_plot, col=\"variable\", height=4, aspect=.5)\n",
    "g = g.map(\n",
    "    sns.regplot,\n",
    "    \"Component\",\n",
    "    \"value\",\n",
    "    x_jitter=.49,\n",
    "    y_jitter=.49,\n",
    "    fit_reg=False\n",
    ")\n",
    "plt.show()"
   ]
  },
  {
   "cell_type": "code",
   "execution_count": 11,
   "metadata": {},
   "outputs": [
    {
     "data": {
      "text/plain": [
       "PCA(copy=True, iterated_power='auto', n_components=4, random_state=None,\n",
       "  svd_solver='auto', tol=0.0, whiten=False)"
      ]
     },
     "execution_count": 11,
     "metadata": {},
     "output_type": "execute_result"
    }
   ],
   "source": [
    "sklearn_pca = PCA(n_components=4)\n",
    "Y_sklearn = sklearn_pca.fit_transform(standard)\n",
    "sklearn_pca.explained_variance_ratio_\n",
    "sklearn_pca\n",
    "#end PCA attempt"
   ]
  },
  {
   "cell_type": "code",
   "execution_count": 25,
   "metadata": {},
   "outputs": [
    {
     "data": {
      "text/plain": [
       "City                                    317\n",
       "Population                              317\n",
       "Violent crime                           317\n",
       "Murder and nonnegligent manslaughter    317\n",
       "Rape (legacy definition)2               317\n",
       "Robbery                                 317\n",
       "Aggravated assault                      317\n",
       "Property crime                          317\n",
       "Burglary                                317\n",
       "Larceny- theft                          317\n",
       "Motor vehicle theft                     317\n",
       "Arson3                                  317\n",
       "Population^2                            317\n",
       "Murder                                  317\n",
       "Robbery_feature                         317\n",
       "Arson_data                              317\n",
       "High_theft                              317\n",
       "Burg_bool                               317\n",
       "Danger_zone                             317\n",
       "Violence                                317\n",
       "dtype: int64"
      ]
     },
     "execution_count": 25,
     "metadata": {},
     "output_type": "execute_result"
    }
   ],
   "source": [
    "df['Arson3'].fillna(0, inplace=True)\n",
    "df['Population^2'] = df['Population'].map(lambda x: x**2)\n",
    "df['Murder'] = np.where(df['Murder and nonnegligent manslaughter']>0, 1, 0)\n",
    "df['Robbery_feature'] = np.where(df['Robbery']>0, 1, 0)\n",
    "df['Arson_data'] = np.where(df['Arson3']>0, 1, 0)\n",
    "df['High_theft'] = np.where(\n",
    "    (df['Larceny- theft']>0) & (df['Burglary']>0)\n",
    "    , 1, 0)\n",
    "df['Burg_bool'] = np.where(df['Burglary']>0, 1,0)\n",
    "df['Danger_zone'] = np.where((df['Murder and nonnegligent manslaughter']>0) & (df['Violent crime']>0), 1, 0)\n",
    "df['Violence'] = np.where(df['Violent crime']>0, 1, 0)\n"
   ]
  },
  {
   "cell_type": "code",
   "execution_count": 28,
   "metadata": {},
   "outputs": [
    {
     "name": "stdout",
     "output_type": "stream",
     "text": [
      "\n",
      "Coefficients: \n",
      " [[ 2.82546918e-08  1.01759145e+02  2.43588329e+01  1.16144521e+01\n",
      "  -2.56015150e+00  4.15271112e+00]]\n",
      "\n",
      "Intercept: \n",
      " [3.15357832]\n",
      "\n",
      "R-squared:\n",
      "0.845568943049876\n"
     ]
    }
   ],
   "source": [
    "# Instantiate and fit our model.\n",
    "regr = linear_model.LinearRegression()\n",
    "Y = df['Property crime'].values.reshape(-1, 1)\n",
    "X = df[['Population^2',  'Robbery_feature', 'Danger_zone', 'High_theft', 'Arson3', 'Burglary']]\n",
    "regr.fit(X, Y)\n",
    "\n",
    "# Inspect the results.\n",
    "print('\\nCoefficients: \\n', regr.coef_)\n",
    "print('\\nIntercept: \\n', regr.intercept_)\n",
    "print('\\nR-squared:')\n",
    "print(regr.score(X, Y))"
   ]
  },
  {
   "cell_type": "code",
   "execution_count": 29,
   "metadata": {},
   "outputs": [
    {
     "data": {
      "image/png": "[encoded data removed]",
      "text/plain": [
       "<matplotlib.figure.Figure at 0x171681bf780>"
      ]
     },
     "metadata": {},
     "output_type": "display_data"
    }
   ],
   "source": [
    "sns.heatmap(X.corr(), vmin=0, vmax=1)\n",
    "plt.show()"
   ]
  },
  {
   "cell_type": "markdown",
   "metadata": {},
   "source": [
    "# Multivariate normality check"
   ]
  },
  {
   "cell_type": "code",
   "execution_count": null,
   "metadata": {
    "collapsed": true
   },
   "outputs": [],
   "source": [
    "actual = df['Property crime']\n",
    "predicted = regr.predict(X).ravel()\n",
    "residual = predicted-actual\n",
    "\n",
    "plt.figure(figsize=(10,5))\n",
    "plt.hist(residual)\n",
    "plt.title('Residual counts')\n",
    "plt.xlabel('Residual')\n",
    "plt.ylabel('Count')\n",
    "plt.show()"
   ]
  },
  {
   "cell_type": "code",
   "execution_count": null,
   "metadata": {
    "collapsed": true
   },
   "outputs": [],
   "source": [
    "display(df.loc[np.abs(residual)>250])\n",
    "df.drop(df[np.abs(residual)>250].index, inplace=True)"
   ]
  },
  {
   "cell_type": "code",
   "execution_count": null,
   "metadata": {
    "collapsed": true
   },
   "outputs": [],
   "source": [
    "actual = df['Property crime']\n",
    "X = df[['Population^2', 'Murder', 'Robbery_feature', 'Arson_data', 'Motor_theft', 'Burglary']]\n",
    "predicted = regr.predict(X).ravel()\n",
    "residual = predicted-actual\n",
    "\n",
    "plt.figure(figsize=(10,5))\n",
    "plt.hist(residual)\n",
    "plt.title('Residual counts')\n",
    "plt.xlabel('Residual')\n",
    "plt.ylabel('Count')\n",
    "plt.show()"
   ]
  },
  {
   "cell_type": "markdown",
   "metadata": {},
   "source": [
    "# Homoscadasticity check"
   ]
  },
  {
   "cell_type": "code",
   "execution_count": null,
   "metadata": {
    "collapsed": true
   },
   "outputs": [],
   "source": [
    "plt.scatter(predicted, residual)\n",
    "plt.xlabel('Predicted')\n",
    "plt.ylabel('Residual')\n",
    "plt.axhline(y=0)\n",
    "plt.title('Residual vs. Predicted')\n",
    "plt.show()"
   ]
  },
  {
   "cell_type": "code",
   "execution_count": null,
   "metadata": {
    "collapsed": true
   },
   "outputs": [],
   "source": [
    "df['Property crime'] = df['Property crime'].map(lambda x: x**2)"
   ]
  },
  {
   "cell_type": "code",
   "execution_count": null,
   "metadata": {
    "collapsed": true
   },
   "outputs": [],
   "source": [
    "actual = df['Property crime']\n",
    "X = df[['Population^2', 'Murder', 'Robbery_feature', 'Arson_data', 'Motor_theft', 'Burglary']]\n",
    "predicted = regr.predict(X).ravel()\n",
    "residual = predicted-actual\n",
    "plt.scatter(predicted, residual)\n",
    "plt.xlabel('Predicted')\n",
    "plt.ylabel('Residual')\n",
    "plt.axhline(y=0)\n",
    "plt.title('Residual vs. Predicted')\n",
    "plt.show()"
   ]
  },
  {
   "cell_type": "code",
   "execution_count": null,
   "metadata": {
    "collapsed": true
   },
   "outputs": [],
   "source": [
    "display(X.corr())"
   ]
  },
  {
   "cell_type": "code",
   "execution_count": null,
   "metadata": {
    "collapsed": true
   },
   "outputs": [],
   "source": []
  }
 ],
 "metadata": {
  "kernelspec": {
   "display_name": "Python 3",
   "language": "python",
   "name": "python3"
  },
  "language_info": {
   "codemirror_mode": {
    "name": "ipython",
    "version": 3
   },
   "file_extension": ".py",
   "mimetype": "text/x-python",
   "name": "python",
   "nbconvert_exporter": "python",
   "pygments_lexer": "ipython3",
   "version": "3.6.3"
  }
 },
 "nbformat": 4,
 "nbformat_minor": 2
}
